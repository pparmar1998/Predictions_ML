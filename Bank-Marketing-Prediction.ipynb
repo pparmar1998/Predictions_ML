{
 "cells": [
  {
   "cell_type": "code",
   "execution_count": 1,
   "id": "9bfaf80b",
   "metadata": {},
   "outputs": [],
   "source": [
    "#ml project 1, Bnak Marketing prediction (Parimal Parimal)\n",
    "import pandas as pd\n",
    "import numpy as np\n",
    "import matplotlib.pyplot as plt\n",
    "import seaborn as sns\n"
   ]
  },
  {
   "cell_type": "code",
   "execution_count": 2,
   "id": "097c1a45",
   "metadata": {},
   "outputs": [],
   "source": [
    "df = pd.read_csv(r'C:\\Users\\admin\\Downloads\\ML Project1_BMP\\bank-marketing.csv')"
   ]
  },
  {
   "cell_type": "code",
   "execution_count": 3,
   "id": "7fa58894",
   "metadata": {
    "scrolled": false
   },
   "outputs": [
    {
     "data": {
      "text/html": [
       "<div>\n",
       "<style scoped>\n",
       "    .dataframe tbody tr th:only-of-type {\n",
       "        vertical-align: middle;\n",
       "    }\n",
       "\n",
       "    .dataframe tbody tr th {\n",
       "        vertical-align: top;\n",
       "    }\n",
       "\n",
       "    .dataframe thead th {\n",
       "        text-align: right;\n",
       "    }\n",
       "</style>\n",
       "<table border=\"1\" class=\"dataframe\">\n",
       "  <thead>\n",
       "    <tr style=\"text-align: right;\">\n",
       "      <th></th>\n",
       "      <th>age</th>\n",
       "      <th>job</th>\n",
       "      <th>salary</th>\n",
       "      <th>marital</th>\n",
       "      <th>education</th>\n",
       "      <th>targeted</th>\n",
       "      <th>default</th>\n",
       "      <th>balance</th>\n",
       "      <th>housing</th>\n",
       "      <th>loan</th>\n",
       "      <th>contact</th>\n",
       "      <th>day</th>\n",
       "      <th>month</th>\n",
       "      <th>duration</th>\n",
       "      <th>campaign</th>\n",
       "      <th>pdays</th>\n",
       "      <th>previous</th>\n",
       "      <th>poutcome</th>\n",
       "      <th>response</th>\n",
       "    </tr>\n",
       "  </thead>\n",
       "  <tbody>\n",
       "    <tr>\n",
       "      <th>0</th>\n",
       "      <td>58</td>\n",
       "      <td>management</td>\n",
       "      <td>100000</td>\n",
       "      <td>married</td>\n",
       "      <td>tertiary</td>\n",
       "      <td>yes</td>\n",
       "      <td>no</td>\n",
       "      <td>2143</td>\n",
       "      <td>yes</td>\n",
       "      <td>no</td>\n",
       "      <td>unknown</td>\n",
       "      <td>5</td>\n",
       "      <td>may</td>\n",
       "      <td>261</td>\n",
       "      <td>1</td>\n",
       "      <td>-1</td>\n",
       "      <td>0</td>\n",
       "      <td>unknown</td>\n",
       "      <td>no</td>\n",
       "    </tr>\n",
       "    <tr>\n",
       "      <th>1</th>\n",
       "      <td>44</td>\n",
       "      <td>technician</td>\n",
       "      <td>60000</td>\n",
       "      <td>single</td>\n",
       "      <td>secondary</td>\n",
       "      <td>yes</td>\n",
       "      <td>no</td>\n",
       "      <td>29</td>\n",
       "      <td>yes</td>\n",
       "      <td>no</td>\n",
       "      <td>unknown</td>\n",
       "      <td>5</td>\n",
       "      <td>may</td>\n",
       "      <td>151</td>\n",
       "      <td>1</td>\n",
       "      <td>-1</td>\n",
       "      <td>0</td>\n",
       "      <td>unknown</td>\n",
       "      <td>no</td>\n",
       "    </tr>\n",
       "    <tr>\n",
       "      <th>2</th>\n",
       "      <td>33</td>\n",
       "      <td>entrepreneur</td>\n",
       "      <td>120000</td>\n",
       "      <td>married</td>\n",
       "      <td>secondary</td>\n",
       "      <td>yes</td>\n",
       "      <td>no</td>\n",
       "      <td>2</td>\n",
       "      <td>yes</td>\n",
       "      <td>yes</td>\n",
       "      <td>unknown</td>\n",
       "      <td>5</td>\n",
       "      <td>may</td>\n",
       "      <td>76</td>\n",
       "      <td>1</td>\n",
       "      <td>-1</td>\n",
       "      <td>0</td>\n",
       "      <td>unknown</td>\n",
       "      <td>no</td>\n",
       "    </tr>\n",
       "    <tr>\n",
       "      <th>3</th>\n",
       "      <td>47</td>\n",
       "      <td>blue-collar</td>\n",
       "      <td>20000</td>\n",
       "      <td>married</td>\n",
       "      <td>unknown</td>\n",
       "      <td>no</td>\n",
       "      <td>no</td>\n",
       "      <td>1506</td>\n",
       "      <td>yes</td>\n",
       "      <td>no</td>\n",
       "      <td>unknown</td>\n",
       "      <td>5</td>\n",
       "      <td>may</td>\n",
       "      <td>92</td>\n",
       "      <td>1</td>\n",
       "      <td>-1</td>\n",
       "      <td>0</td>\n",
       "      <td>unknown</td>\n",
       "      <td>no</td>\n",
       "    </tr>\n",
       "    <tr>\n",
       "      <th>4</th>\n",
       "      <td>33</td>\n",
       "      <td>unknown</td>\n",
       "      <td>0</td>\n",
       "      <td>single</td>\n",
       "      <td>unknown</td>\n",
       "      <td>no</td>\n",
       "      <td>no</td>\n",
       "      <td>1</td>\n",
       "      <td>no</td>\n",
       "      <td>no</td>\n",
       "      <td>unknown</td>\n",
       "      <td>5</td>\n",
       "      <td>may</td>\n",
       "      <td>198</td>\n",
       "      <td>1</td>\n",
       "      <td>-1</td>\n",
       "      <td>0</td>\n",
       "      <td>unknown</td>\n",
       "      <td>no</td>\n",
       "    </tr>\n",
       "  </tbody>\n",
       "</table>\n",
       "</div>"
      ],
      "text/plain": [
       "   age           job  salary  marital  education targeted default  balance  \\\n",
       "0   58    management  100000  married   tertiary      yes      no     2143   \n",
       "1   44    technician   60000   single  secondary      yes      no       29   \n",
       "2   33  entrepreneur  120000  married  secondary      yes      no        2   \n",
       "3   47   blue-collar   20000  married    unknown       no      no     1506   \n",
       "4   33       unknown       0   single    unknown       no      no        1   \n",
       "\n",
       "  housing loan  contact  day month  duration  campaign  pdays  previous  \\\n",
       "0     yes   no  unknown    5   may       261         1     -1         0   \n",
       "1     yes   no  unknown    5   may       151         1     -1         0   \n",
       "2     yes  yes  unknown    5   may        76         1     -1         0   \n",
       "3     yes   no  unknown    5   may        92         1     -1         0   \n",
       "4      no   no  unknown    5   may       198         1     -1         0   \n",
       "\n",
       "  poutcome response  \n",
       "0  unknown       no  \n",
       "1  unknown       no  \n",
       "2  unknown       no  \n",
       "3  unknown       no  \n",
       "4  unknown       no  "
      ]
     },
     "execution_count": 3,
     "metadata": {},
     "output_type": "execute_result"
    }
   ],
   "source": [
    "df.head()"
   ]
  },
  {
   "cell_type": "code",
   "execution_count": 4,
   "id": "9114e907",
   "metadata": {},
   "outputs": [
    {
     "data": {
      "text/plain": [
       "(45211, 19)"
      ]
     },
     "execution_count": 4,
     "metadata": {},
     "output_type": "execute_result"
    }
   ],
   "source": [
    "df.shape"
   ]
  },
  {
   "cell_type": "code",
   "execution_count": 5,
   "id": "237c2a80",
   "metadata": {},
   "outputs": [
    {
     "data": {
      "text/html": [
       "<div>\n",
       "<style scoped>\n",
       "    .dataframe tbody tr th:only-of-type {\n",
       "        vertical-align: middle;\n",
       "    }\n",
       "\n",
       "    .dataframe tbody tr th {\n",
       "        vertical-align: top;\n",
       "    }\n",
       "\n",
       "    .dataframe thead th {\n",
       "        text-align: right;\n",
       "    }\n",
       "</style>\n",
       "<table border=\"1\" class=\"dataframe\">\n",
       "  <thead>\n",
       "    <tr style=\"text-align: right;\">\n",
       "      <th></th>\n",
       "      <th>count</th>\n",
       "      <th>mean</th>\n",
       "      <th>std</th>\n",
       "      <th>min</th>\n",
       "      <th>25%</th>\n",
       "      <th>50%</th>\n",
       "      <th>75%</th>\n",
       "      <th>max</th>\n",
       "    </tr>\n",
       "  </thead>\n",
       "  <tbody>\n",
       "    <tr>\n",
       "      <th>age</th>\n",
       "      <td>45211.0</td>\n",
       "      <td>40.936210</td>\n",
       "      <td>10.618762</td>\n",
       "      <td>18.0</td>\n",
       "      <td>33.0</td>\n",
       "      <td>39.0</td>\n",
       "      <td>48.0</td>\n",
       "      <td>95.0</td>\n",
       "    </tr>\n",
       "    <tr>\n",
       "      <th>salary</th>\n",
       "      <td>45211.0</td>\n",
       "      <td>57006.171065</td>\n",
       "      <td>32085.718415</td>\n",
       "      <td>0.0</td>\n",
       "      <td>20000.0</td>\n",
       "      <td>60000.0</td>\n",
       "      <td>70000.0</td>\n",
       "      <td>120000.0</td>\n",
       "    </tr>\n",
       "    <tr>\n",
       "      <th>balance</th>\n",
       "      <td>45211.0</td>\n",
       "      <td>1362.272058</td>\n",
       "      <td>3044.765829</td>\n",
       "      <td>-8019.0</td>\n",
       "      <td>72.0</td>\n",
       "      <td>448.0</td>\n",
       "      <td>1428.0</td>\n",
       "      <td>102127.0</td>\n",
       "    </tr>\n",
       "    <tr>\n",
       "      <th>day</th>\n",
       "      <td>45211.0</td>\n",
       "      <td>15.806419</td>\n",
       "      <td>8.322476</td>\n",
       "      <td>1.0</td>\n",
       "      <td>8.0</td>\n",
       "      <td>16.0</td>\n",
       "      <td>21.0</td>\n",
       "      <td>31.0</td>\n",
       "    </tr>\n",
       "    <tr>\n",
       "      <th>duration</th>\n",
       "      <td>45211.0</td>\n",
       "      <td>258.163080</td>\n",
       "      <td>257.527812</td>\n",
       "      <td>0.0</td>\n",
       "      <td>103.0</td>\n",
       "      <td>180.0</td>\n",
       "      <td>319.0</td>\n",
       "      <td>4918.0</td>\n",
       "    </tr>\n",
       "    <tr>\n",
       "      <th>campaign</th>\n",
       "      <td>45211.0</td>\n",
       "      <td>2.763841</td>\n",
       "      <td>3.098021</td>\n",
       "      <td>1.0</td>\n",
       "      <td>1.0</td>\n",
       "      <td>2.0</td>\n",
       "      <td>3.0</td>\n",
       "      <td>63.0</td>\n",
       "    </tr>\n",
       "    <tr>\n",
       "      <th>pdays</th>\n",
       "      <td>45211.0</td>\n",
       "      <td>40.197828</td>\n",
       "      <td>100.128746</td>\n",
       "      <td>-1.0</td>\n",
       "      <td>-1.0</td>\n",
       "      <td>-1.0</td>\n",
       "      <td>-1.0</td>\n",
       "      <td>871.0</td>\n",
       "    </tr>\n",
       "    <tr>\n",
       "      <th>previous</th>\n",
       "      <td>45211.0</td>\n",
       "      <td>0.580323</td>\n",
       "      <td>2.303441</td>\n",
       "      <td>0.0</td>\n",
       "      <td>0.0</td>\n",
       "      <td>0.0</td>\n",
       "      <td>0.0</td>\n",
       "      <td>275.0</td>\n",
       "    </tr>\n",
       "  </tbody>\n",
       "</table>\n",
       "</div>"
      ],
      "text/plain": [
       "            count          mean           std     min      25%      50%  \\\n",
       "age       45211.0     40.936210     10.618762    18.0     33.0     39.0   \n",
       "salary    45211.0  57006.171065  32085.718415     0.0  20000.0  60000.0   \n",
       "balance   45211.0   1362.272058   3044.765829 -8019.0     72.0    448.0   \n",
       "day       45211.0     15.806419      8.322476     1.0      8.0     16.0   \n",
       "duration  45211.0    258.163080    257.527812     0.0    103.0    180.0   \n",
       "campaign  45211.0      2.763841      3.098021     1.0      1.0      2.0   \n",
       "pdays     45211.0     40.197828    100.128746    -1.0     -1.0     -1.0   \n",
       "previous  45211.0      0.580323      2.303441     0.0      0.0      0.0   \n",
       "\n",
       "              75%       max  \n",
       "age          48.0      95.0  \n",
       "salary    70000.0  120000.0  \n",
       "balance    1428.0  102127.0  \n",
       "day          21.0      31.0  \n",
       "duration    319.0    4918.0  \n",
       "campaign      3.0      63.0  \n",
       "pdays        -1.0     871.0  \n",
       "previous      0.0     275.0  "
      ]
     },
     "execution_count": 5,
     "metadata": {},
     "output_type": "execute_result"
    }
   ],
   "source": [
    "df.describe().T"
   ]
  },
  {
   "cell_type": "code",
   "execution_count": 6,
   "id": "df37f4ce",
   "metadata": {},
   "outputs": [
    {
     "data": {
      "text/plain": [
       "<AxesSubplot:>"
      ]
     },
     "execution_count": 6,
     "metadata": {},
     "output_type": "execute_result"
    },
    {
     "data": {
      "image/png": "[encoded data removed]",
      "text/plain": [
       "<Figure size 432x288 with 1 Axes>"
      ]
     },
     "metadata": {
      "needs_background": "light"
     },
     "output_type": "display_data"
    }
   ],
   "source": [
    "df.boxplot(\"pdays\")"
   ]
  },
  {
   "cell_type": "code",
   "execution_count": 7,
   "id": "4e97deb0",
   "metadata": {},
   "outputs": [
    {
     "data": {
      "text/plain": [
       "-1.0"
      ]
     },
     "execution_count": 7,
     "metadata": {},
     "output_type": "execute_result"
    }
   ],
   "source": [
    "df[\"pdays\"].median()"
   ]
  },
  {
   "cell_type": "code",
   "execution_count": 8,
   "id": "6b679152",
   "metadata": {},
   "outputs": [
    {
     "name": "stdout",
     "output_type": "stream",
     "text": [
      "-1.0 -1.0 -1.0\n",
      "0.0\n",
      "-1.0 -1.0\n"
     ]
    }
   ],
   "source": [
    "q1,q2,q3 = np.quantile(df[\"pdays\"], 0.25), np.quantile(df[\"pdays\"], 0.50), np.quantile(df[\"pdays\"], 0.75)\n",
    "IQR = q3 - q1\n",
    "uw,lw = q3 + (1.5 * IQR),q1 - (1.5 * IQR)\n",
    "print(q1,q2,q3)\n",
    "print(IQR)\n",
    "print(uw,lw)"
   ]
  },
  {
   "cell_type": "code",
   "execution_count": 9,
   "id": "a8233bd6",
   "metadata": {},
   "outputs": [],
   "source": [
    "df[\"pdays\"] = np.where(df[\"pdays\"] > uw, df[\"pdays\"].median(), df[\"pdays\"])\n",
    "df[\"pdays\"] = np.where(df[\"pdays\"] < lw, df[\"pdays\"].median(), df[\"pdays\"])"
   ]
  },
  {
   "cell_type": "code",
   "execution_count": 10,
   "id": "a70f6408",
   "metadata": {},
   "outputs": [
    {
     "data": {
      "text/plain": [
       "<AxesSubplot:>"
      ]
     },
     "execution_count": 10,
     "metadata": {},
     "output_type": "execute_result"
    },
    {
     "data": {
      "image/png": "[encoded data removed]",
      "text/plain": [
       "<Figure size 432x288 with 1 Axes>"
      ]
     },
     "metadata": {
      "needs_background": "light"
     },
     "output_type": "display_data"
    }
   ],
   "source": [
    "df.boxplot(\"pdays\")"
   ]
  },
  {
   "cell_type": "markdown",
   "id": "05f89424",
   "metadata": {},
   "source": [
    "After removing the outliars the pdays value is -1, so after limiting the mean ahs been changed but the median will be same."
   ]
  },
  {
   "cell_type": "code",
   "execution_count": null,
   "id": "74792527",
   "metadata": {},
   "outputs": [],
   "source": []
  },
  {
   "cell_type": "code",
   "execution_count": 11,
   "id": "53550c0c",
   "metadata": {},
   "outputs": [
    {
     "data": {
      "image/png": "[encoded data removed]",
      "text/plain": [
       "<Figure size 432x288 with 1 Axes>"
      ]
     },
     "metadata": {
      "needs_background": "light"
     },
     "output_type": "display_data"
    }
   ],
   "source": [
    "df.groupby(['education'])['balance'].median().plot.bar(color=\"darkgreen\")\n",
    "plt.show()"
   ]
  },
  {
   "cell_type": "code",
   "execution_count": 12,
   "id": "83aad4ce",
   "metadata": {},
   "outputs": [
    {
     "data": {
      "text/plain": [
       "education\n",
       "primary      403\n",
       "secondary    392\n",
       "tertiary     577\n",
       "unknown      568\n",
       "Name: balance, dtype: int64"
      ]
     },
     "execution_count": 12,
     "metadata": {},
     "output_type": "execute_result"
    }
   ],
   "source": [
    "df.groupby(['education'])['balance'].median()"
   ]
  },
  {
   "cell_type": "markdown",
   "id": "688eacf2",
   "metadata": {},
   "source": [
    "First, perform bi-variate analysis to identify the features that are directly associated with the target \n",
    "variable."
   ]
  },
  {
   "cell_type": "code",
   "execution_count": 13,
   "id": "e33cb201",
   "metadata": {},
   "outputs": [
    {
     "data": {
      "text/plain": [
       "<AxesSubplot:>"
      ]
     },
     "execution_count": 13,
     "metadata": {},
     "output_type": "execute_result"
    },
    {
     "data": {
      "image/png": "[encoded data removed]",
      "text/plain": [
       "<Figure size 1152x360 with 2 Axes>"
      ]
     },
     "metadata": {
      "needs_background": "light"
     },
     "output_type": "display_data"
    }
   ],
   "source": [
    "plt.figure(figsize = (16,5))\n",
    "sns.heatmap(df.corr(), annot = True, linewidths= .8)"
   ]
  },
  {
   "cell_type": "markdown",
   "id": "cc5e337d",
   "metadata": {},
   "source": [
    "Convert the response variable to a convenient form"
   ]
  },
  {
   "cell_type": "code",
   "execution_count": 14,
   "id": "fbd8803e",
   "metadata": {},
   "outputs": [],
   "source": [
    "import pandas as pd\n",
    "import numpy as np\n",
    "from sklearn.preprocessing import LabelEncoder"
   ]
  },
  {
   "cell_type": "code",
   "execution_count": 15,
   "id": "df13e8c7",
   "metadata": {},
   "outputs": [],
   "source": [
    "labelencoder = LabelEncoder()"
   ]
  },
  {
   "cell_type": "code",
   "execution_count": 16,
   "id": "964cb24a",
   "metadata": {},
   "outputs": [],
   "source": [
    "df['response'] = labelencoder.fit_transform(df['response'])"
   ]
  },
  {
   "cell_type": "code",
   "execution_count": 17,
   "id": "8c557777",
   "metadata": {},
   "outputs": [
    {
     "data": {
      "text/html": [
       "<div>\n",
       "<style scoped>\n",
       "    .dataframe tbody tr th:only-of-type {\n",
       "        vertical-align: middle;\n",
       "    }\n",
       "\n",
       "    .dataframe tbody tr th {\n",
       "        vertical-align: top;\n",
       "    }\n",
       "\n",
       "    .dataframe thead th {\n",
       "        text-align: right;\n",
       "    }\n",
       "</style>\n",
       "<table border=\"1\" class=\"dataframe\">\n",
       "  <thead>\n",
       "    <tr style=\"text-align: right;\">\n",
       "      <th></th>\n",
       "      <th>age</th>\n",
       "      <th>job</th>\n",
       "      <th>salary</th>\n",
       "      <th>marital</th>\n",
       "      <th>education</th>\n",
       "      <th>targeted</th>\n",
       "      <th>default</th>\n",
       "      <th>balance</th>\n",
       "      <th>housing</th>\n",
       "      <th>loan</th>\n",
       "      <th>contact</th>\n",
       "      <th>day</th>\n",
       "      <th>month</th>\n",
       "      <th>duration</th>\n",
       "      <th>campaign</th>\n",
       "      <th>pdays</th>\n",
       "      <th>previous</th>\n",
       "      <th>poutcome</th>\n",
       "      <th>response</th>\n",
       "    </tr>\n",
       "  </thead>\n",
       "  <tbody>\n",
       "    <tr>\n",
       "      <th>0</th>\n",
       "      <td>58</td>\n",
       "      <td>management</td>\n",
       "      <td>100000</td>\n",
       "      <td>married</td>\n",
       "      <td>tertiary</td>\n",
       "      <td>yes</td>\n",
       "      <td>no</td>\n",
       "      <td>2143</td>\n",
       "      <td>yes</td>\n",
       "      <td>no</td>\n",
       "      <td>unknown</td>\n",
       "      <td>5</td>\n",
       "      <td>may</td>\n",
       "      <td>261</td>\n",
       "      <td>1</td>\n",
       "      <td>-1.0</td>\n",
       "      <td>0</td>\n",
       "      <td>unknown</td>\n",
       "      <td>0</td>\n",
       "    </tr>\n",
       "    <tr>\n",
       "      <th>1</th>\n",
       "      <td>44</td>\n",
       "      <td>technician</td>\n",
       "      <td>60000</td>\n",
       "      <td>single</td>\n",
       "      <td>secondary</td>\n",
       "      <td>yes</td>\n",
       "      <td>no</td>\n",
       "      <td>29</td>\n",
       "      <td>yes</td>\n",
       "      <td>no</td>\n",
       "      <td>unknown</td>\n",
       "      <td>5</td>\n",
       "      <td>may</td>\n",
       "      <td>151</td>\n",
       "      <td>1</td>\n",
       "      <td>-1.0</td>\n",
       "      <td>0</td>\n",
       "      <td>unknown</td>\n",
       "      <td>0</td>\n",
       "    </tr>\n",
       "    <tr>\n",
       "      <th>2</th>\n",
       "      <td>33</td>\n",
       "      <td>entrepreneur</td>\n",
       "      <td>120000</td>\n",
       "      <td>married</td>\n",
       "      <td>secondary</td>\n",
       "      <td>yes</td>\n",
       "      <td>no</td>\n",
       "      <td>2</td>\n",
       "      <td>yes</td>\n",
       "      <td>yes</td>\n",
       "      <td>unknown</td>\n",
       "      <td>5</td>\n",
       "      <td>may</td>\n",
       "      <td>76</td>\n",
       "      <td>1</td>\n",
       "      <td>-1.0</td>\n",
       "      <td>0</td>\n",
       "      <td>unknown</td>\n",
       "      <td>0</td>\n",
       "    </tr>\n",
       "    <tr>\n",
       "      <th>3</th>\n",
       "      <td>47</td>\n",
       "      <td>blue-collar</td>\n",
       "      <td>20000</td>\n",
       "      <td>married</td>\n",
       "      <td>unknown</td>\n",
       "      <td>no</td>\n",
       "      <td>no</td>\n",
       "      <td>1506</td>\n",
       "      <td>yes</td>\n",
       "      <td>no</td>\n",
       "      <td>unknown</td>\n",
       "      <td>5</td>\n",
       "      <td>may</td>\n",
       "      <td>92</td>\n",
       "      <td>1</td>\n",
       "      <td>-1.0</td>\n",
       "      <td>0</td>\n",
       "      <td>unknown</td>\n",
       "      <td>0</td>\n",
       "    </tr>\n",
       "    <tr>\n",
       "      <th>4</th>\n",
       "      <td>33</td>\n",
       "      <td>unknown</td>\n",
       "      <td>0</td>\n",
       "      <td>single</td>\n",
       "      <td>unknown</td>\n",
       "      <td>no</td>\n",
       "      <td>no</td>\n",
       "      <td>1</td>\n",
       "      <td>no</td>\n",
       "      <td>no</td>\n",
       "      <td>unknown</td>\n",
       "      <td>5</td>\n",
       "      <td>may</td>\n",
       "      <td>198</td>\n",
       "      <td>1</td>\n",
       "      <td>-1.0</td>\n",
       "      <td>0</td>\n",
       "      <td>unknown</td>\n",
       "      <td>0</td>\n",
       "    </tr>\n",
       "  </tbody>\n",
       "</table>\n",
       "</div>"
      ],
      "text/plain": [
       "   age           job  salary  marital  education targeted default  balance  \\\n",
       "0   58    management  100000  married   tertiary      yes      no     2143   \n",
       "1   44    technician   60000   single  secondary      yes      no       29   \n",
       "2   33  entrepreneur  120000  married  secondary      yes      no        2   \n",
       "3   47   blue-collar   20000  married    unknown       no      no     1506   \n",
       "4   33       unknown       0   single    unknown       no      no        1   \n",
       "\n",
       "  housing loan  contact  day month  duration  campaign  pdays  previous  \\\n",
       "0     yes   no  unknown    5   may       261         1   -1.0         0   \n",
       "1     yes   no  unknown    5   may       151         1   -1.0         0   \n",
       "2     yes  yes  unknown    5   may        76         1   -1.0         0   \n",
       "3     yes   no  unknown    5   may        92         1   -1.0         0   \n",
       "4      no   no  unknown    5   may       198         1   -1.0         0   \n",
       "\n",
       "  poutcome  response  \n",
       "0  unknown         0  \n",
       "1  unknown         0  \n",
       "2  unknown         0  \n",
       "3  unknown         0  \n",
       "4  unknown         0  "
      ]
     },
     "execution_count": 17,
     "metadata": {},
     "output_type": "execute_result"
    }
   ],
   "source": [
    "df.head()"
   ]
  },
  {
   "cell_type": "code",
   "execution_count": 18,
   "id": "959a00ae",
   "metadata": {},
   "outputs": [
    {
     "data": {
      "text/plain": [
       "<AxesSubplot:>"
      ]
     },
     "execution_count": 18,
     "metadata": {},
     "output_type": "execute_result"
    },
    {
     "data": {
      "image/png": "[encoded data removed]",
      "text/plain": [
       "<Figure size 1152x360 with 2 Axes>"
      ]
     },
     "metadata": {
      "needs_background": "light"
     },
     "output_type": "display_data"
    }
   ],
   "source": [
    "plt.figure(figsize = (16,5))\n",
    "sns.heatmap(df.corr(), annot = True, linewidths= .8)"
   ]
  },
  {
   "cell_type": "code",
   "execution_count": 19,
   "id": "13c8db8c",
   "metadata": {},
   "outputs": [
    {
     "data": {
      "text/plain": [
       "<AxesSubplot:>"
      ]
     },
     "execution_count": 19,
     "metadata": {},
     "output_type": "execute_result"
    },
    {
     "data": {
      "image/png": "[encoded data removed]",
      "text/plain": [
       "<Figure size 432x288 with 1 Axes>"
      ]
     },
     "metadata": {
      "needs_background": "light"
     },
     "output_type": "display_data"
    }
   ],
   "source": [
    "df.boxplot()"
   ]
  },
  {
   "cell_type": "code",
   "execution_count": 20,
   "id": "d6a580cc",
   "metadata": {},
   "outputs": [
    {
     "data": {
      "image/png": "[encoded data removed]",
      "text/plain": [
       "<Figure size 432x288 with 1 Axes>"
      ]
     },
     "metadata": {
      "needs_background": "light"
     },
     "output_type": "display_data"
    }
   ],
   "source": [
    "sns.countplot(x = \"response\", data = df)\n",
    "plt.show()"
   ]
  },
  {
   "cell_type": "code",
   "execution_count": 21,
   "id": "5b2e7a04",
   "metadata": {},
   "outputs": [
    {
     "data": {
      "text/plain": [
       "age          0\n",
       "job          0\n",
       "salary       0\n",
       "marital      0\n",
       "education    0\n",
       "targeted     0\n",
       "default      0\n",
       "balance      0\n",
       "housing      0\n",
       "loan         0\n",
       "contact      0\n",
       "day          0\n",
       "month        0\n",
       "duration     0\n",
       "campaign     0\n",
       "pdays        0\n",
       "previous     0\n",
       "poutcome     0\n",
       "response     0\n",
       "dtype: int64"
      ]
     },
     "execution_count": 21,
     "metadata": {},
     "output_type": "execute_result"
    }
   ],
   "source": [
    "df.isnull().sum()"
   ]
  },
  {
   "cell_type": "code",
   "execution_count": 22,
   "id": "2891212f",
   "metadata": {},
   "outputs": [
    {
     "data": {
      "image/png": "[encoded data removed]",
      "text/plain": [
       "<Figure size 432x288 with 1 Axes>"
      ]
     },
     "metadata": {
      "needs_background": "light"
     },
     "output_type": "display_data"
    }
   ],
   "source": [
    "df.boxplot(\"age\")\n",
    "plt.show()"
   ]
  },
  {
   "cell_type": "code",
   "execution_count": 23,
   "id": "0ccdd115",
   "metadata": {},
   "outputs": [
    {
     "name": "stdout",
     "output_type": "stream",
     "text": [
      "33.0 39.0 48.0\n",
      "15.0\n",
      "70.5 10.5\n"
     ]
    }
   ],
   "source": [
    "q1,q2,q3 = np.quantile(df[\"age\"], 0.25), np.quantile(df[\"age\"], 0.50), np.quantile(df[\"age\"], 0.75)\n",
    "IQR = q3 - q1\n",
    "uw,lw = q3 + (1.5 * IQR),q1 - (1.5 * IQR)\n",
    "print(q1,q2,q3)\n",
    "print(IQR)\n",
    "print(uw,lw)"
   ]
  },
  {
   "cell_type": "code",
   "execution_count": 24,
   "id": "29dbe937",
   "metadata": {},
   "outputs": [],
   "source": [
    "df[\"age\"] = np.where(df[\"age\"] > uw, uw, df[\"age\"])\n",
    "df[\"age\"] = np.where(df[\"age\"] < lw, lw, df[\"age\"])"
   ]
  },
  {
   "cell_type": "code",
   "execution_count": 25,
   "id": "79f75e1b",
   "metadata": {},
   "outputs": [
    {
     "data": {
      "image/png": "[encoded data removed]",
      "text/plain": [
       "<Figure size 432x288 with 1 Axes>"
      ]
     },
     "metadata": {
      "needs_background": "light"
     },
     "output_type": "display_data"
    }
   ],
   "source": [
    "df.boxplot(\"age\")\n",
    "plt.show()"
   ]
  },
  {
   "cell_type": "code",
   "execution_count": null,
   "id": "8da42f4e",
   "metadata": {},
   "outputs": [],
   "source": []
  },
  {
   "cell_type": "code",
   "execution_count": 26,
   "id": "4aafb0a6",
   "metadata": {},
   "outputs": [
    {
     "data": {
      "image/png": "[encoded data removed]",
      "text/plain": [
       "<Figure size 432x288 with 1 Axes>"
      ]
     },
     "metadata": {
      "needs_background": "light"
     },
     "output_type": "display_data"
    }
   ],
   "source": [
    "df.boxplot(\"salary\")\n",
    "plt.show()"
   ]
  },
  {
   "cell_type": "code",
   "execution_count": null,
   "id": "ac26a73a",
   "metadata": {},
   "outputs": [],
   "source": []
  },
  {
   "cell_type": "code",
   "execution_count": null,
   "id": "b63a2f05",
   "metadata": {},
   "outputs": [],
   "source": []
  },
  {
   "cell_type": "code",
   "execution_count": null,
   "id": "934f7af1",
   "metadata": {},
   "outputs": [],
   "source": []
  },
  {
   "cell_type": "code",
   "execution_count": null,
   "id": "5e5bbcb3",
   "metadata": {},
   "outputs": [],
   "source": []
  },
  {
   "cell_type": "code",
   "execution_count": 27,
   "id": "05f290ab",
   "metadata": {},
   "outputs": [
    {
     "data": {
      "image/png": "[encoded data removed]",
      "text/plain": [
       "<Figure size 432x288 with 1 Axes>"
      ]
     },
     "metadata": {
      "needs_background": "light"
     },
     "output_type": "display_data"
    }
   ],
   "source": [
    "df.boxplot(\"balance\")\n",
    "plt.show()"
   ]
  },
  {
   "cell_type": "code",
   "execution_count": 28,
   "id": "0713b225",
   "metadata": {},
   "outputs": [
    {
     "name": "stdout",
     "output_type": "stream",
     "text": [
      "72.0 448.0 1428.0\n",
      "1356.0\n",
      "3462.0 -1962.0\n"
     ]
    }
   ],
   "source": [
    "q1,q2,q3 = np.quantile(df[\"balance\"], 0.25), np.quantile(df[\"balance\"], 0.50), np.quantile(df[\"balance\"], 0.75)\n",
    "IQR = q3 - q1\n",
    "uw,lw = q3 + (1.5 * IQR),q1 - (1.5 * IQR)\n",
    "print(q1,q2,q3)\n",
    "print(IQR)\n",
    "print(uw,lw)"
   ]
  },
  {
   "cell_type": "code",
   "execution_count": 29,
   "id": "871e4348",
   "metadata": {},
   "outputs": [],
   "source": [
    "df[\"balance\"] = np.where(df[\"balance\"] > uw, uw, df[\"balance\"])\n",
    "df[\"balance\"] = np.where(df[\"balance\"] < lw, lw, df[\"balance\"])"
   ]
  },
  {
   "cell_type": "code",
   "execution_count": 30,
   "id": "e979b2ae",
   "metadata": {},
   "outputs": [
    {
     "data": {
      "image/png": "[encoded data removed]",
      "text/plain": [
       "<Figure size 432x288 with 1 Axes>"
      ]
     },
     "metadata": {
      "needs_background": "light"
     },
     "output_type": "display_data"
    }
   ],
   "source": [
    "df.boxplot(\"balance\")\n",
    "plt.show()"
   ]
  },
  {
   "cell_type": "code",
   "execution_count": null,
   "id": "775d49b0",
   "metadata": {},
   "outputs": [],
   "source": []
  },
  {
   "cell_type": "code",
   "execution_count": null,
   "id": "306e9c82",
   "metadata": {},
   "outputs": [],
   "source": []
  },
  {
   "cell_type": "code",
   "execution_count": null,
   "id": "2c6a58b4",
   "metadata": {},
   "outputs": [],
   "source": []
  },
  {
   "cell_type": "code",
   "execution_count": 31,
   "id": "eda8c4e6",
   "metadata": {},
   "outputs": [
    {
     "data": {
      "image/png": "[encoded data removed]",
      "text/plain": [
       "<Figure size 432x288 with 1 Axes>"
      ]
     },
     "metadata": {
      "needs_background": "light"
     },
     "output_type": "display_data"
    }
   ],
   "source": [
    "df.boxplot(\"day\")\n",
    "plt.show()"
   ]
  },
  {
   "cell_type": "code",
   "execution_count": 32,
   "id": "65595e6e",
   "metadata": {},
   "outputs": [
    {
     "data": {
      "image/png": "[encoded data removed]",
      "text/plain": [
       "<Figure size 432x288 with 1 Axes>"
      ]
     },
     "metadata": {
      "needs_background": "light"
     },
     "output_type": "display_data"
    }
   ],
   "source": [
    "df.boxplot(\"campaign\")\n",
    "plt.show()"
   ]
  },
  {
   "cell_type": "code",
   "execution_count": 33,
   "id": "91673324",
   "metadata": {},
   "outputs": [
    {
     "name": "stdout",
     "output_type": "stream",
     "text": [
      "1.0 2.0 3.0\n",
      "2.0\n",
      "6.0 -2.0\n"
     ]
    }
   ],
   "source": [
    "q1,q2,q3 = np.quantile(df[\"campaign\"], 0.25), np.quantile(df[\"campaign\"], 0.50), np.quantile(df[\"campaign\"], 0.75)\n",
    "IQR = q3 - q1\n",
    "uw,lw = q3 + (1.5 * IQR),q1 - (1.5 * IQR)\n",
    "print(q1,q2,q3)\n",
    "print(IQR)\n",
    "print(uw,lw)"
   ]
  },
  {
   "cell_type": "code",
   "execution_count": 34,
   "id": "cbb413af",
   "metadata": {},
   "outputs": [],
   "source": [
    "df[\"campaign\"] = np.where(df[\"campaign\"] > uw, uw, df[\"campaign\"])\n",
    "df[\"campaign\"] = np.where(df[\"campaign\"] < lw, lw, df[\"campaign\"])"
   ]
  },
  {
   "cell_type": "code",
   "execution_count": 35,
   "id": "1ea906ec",
   "metadata": {},
   "outputs": [
    {
     "data": {
      "image/png": "[encoded data removed]",
      "text/plain": [
       "<Figure size 432x288 with 1 Axes>"
      ]
     },
     "metadata": {
      "needs_background": "light"
     },
     "output_type": "display_data"
    }
   ],
   "source": [
    "df.boxplot(\"campaign\")\n",
    "plt.show()"
   ]
  },
  {
   "cell_type": "code",
   "execution_count": null,
   "id": "a8a8467e",
   "metadata": {},
   "outputs": [],
   "source": []
  },
  {
   "cell_type": "code",
   "execution_count": null,
   "id": "cb2495f8",
   "metadata": {},
   "outputs": [],
   "source": []
  },
  {
   "cell_type": "code",
   "execution_count": null,
   "id": "e4dedfb6",
   "metadata": {},
   "outputs": [],
   "source": []
  },
  {
   "cell_type": "code",
   "execution_count": 36,
   "id": "4fadc3b1",
   "metadata": {
    "scrolled": true
   },
   "outputs": [
    {
     "data": {
      "image/png": "[encoded data removed]",
      "text/plain": [
       "<Figure size 432x288 with 1 Axes>"
      ]
     },
     "metadata": {
      "needs_background": "light"
     },
     "output_type": "display_data"
    }
   ],
   "source": [
    "df.boxplot(\"previous\")\n",
    "plt.show()"
   ]
  },
  {
   "cell_type": "code",
   "execution_count": 37,
   "id": "21032300",
   "metadata": {},
   "outputs": [
    {
     "name": "stdout",
     "output_type": "stream",
     "text": [
      "0.0 0.0 0.0\n",
      "0.0\n",
      "0.0 0.0\n"
     ]
    }
   ],
   "source": [
    "q1,q2,q3 = np.quantile(df[\"previous\"], 0.25), np.quantile(df[\"previous\"], 0.50), np.quantile(df[\"previous\"], 0.75)\n",
    "IQR = q3 - q1\n",
    "uw,lw = q3 + (1.5 * IQR),q1 - (1.5 * IQR)\n",
    "print(q1,q2,q3)\n",
    "print(IQR)\n",
    "print(uw,lw)"
   ]
  },
  {
   "cell_type": "code",
   "execution_count": 38,
   "id": "df72b385",
   "metadata": {},
   "outputs": [],
   "source": [
    "df[\"previous\"] = np.where(df[\"previous\"] > uw, uw, df[\"previous\"])\n",
    "df[\"previous\"] = np.where(df[\"previous\"] < lw, lw, df[\"previous\"])"
   ]
  },
  {
   "cell_type": "code",
   "execution_count": 39,
   "id": "a1d783ba",
   "metadata": {},
   "outputs": [
    {
     "data": {
      "image/png": "[encoded data removed]",
      "text/plain": [
       "<Figure size 432x288 with 1 Axes>"
      ]
     },
     "metadata": {
      "needs_background": "light"
     },
     "output_type": "display_data"
    }
   ],
   "source": [
    "df.boxplot(\"previous\")\n",
    "plt.show()"
   ]
  },
  {
   "cell_type": "code",
   "execution_count": null,
   "id": "366e453b",
   "metadata": {},
   "outputs": [],
   "source": []
  },
  {
   "cell_type": "code",
   "execution_count": null,
   "id": "adf5fea1",
   "metadata": {},
   "outputs": [],
   "source": []
  },
  {
   "cell_type": "markdown",
   "id": "8a5413a8",
   "metadata": {},
   "source": [
    "Make suitable plots for associations with numerical features and categorical features’\n"
   ]
  },
  {
   "cell_type": "code",
   "execution_count": 40,
   "id": "9ae51fb2",
   "metadata": {},
   "outputs": [
    {
     "data": {
      "image/png": "[encoded data removed]",
      "text/plain": [
       "<Figure size 720x360 with 1 Axes>"
      ]
     },
     "metadata": {
      "needs_background": "light"
     },
     "output_type": "display_data"
    }
   ],
   "source": [
    "plt.figure(figsize = (10,5))\n",
    "plt.title(\"age vs response\")\n",
    "plt.scatter(df[\"age\"], df[\"response\"], c = \"r\")\n",
    "plt.show()"
   ]
  },
  {
   "cell_type": "code",
   "execution_count": 41,
   "id": "06e675e3",
   "metadata": {},
   "outputs": [
    {
     "data": {
      "image/png": "[encoded data removed]",
      "text/plain": [
       "<Figure size 720x360 with 1 Axes>"
      ]
     },
     "metadata": {
      "needs_background": "light"
     },
     "output_type": "display_data"
    }
   ],
   "source": [
    "plt.figure(figsize = (10,5))\n",
    "plt.title(\"salary vs response\")\n",
    "plt.scatter(df[\"salary\"], df[\"response\"], c = \"r\")\n",
    "plt.show()"
   ]
  },
  {
   "cell_type": "code",
   "execution_count": 42,
   "id": "6ab5df92",
   "metadata": {},
   "outputs": [
    {
     "data": {
      "image/png": "[encoded data removed]",
      "text/plain": [
       "<Figure size 720x360 with 1 Axes>"
      ]
     },
     "metadata": {
      "needs_background": "light"
     },
     "output_type": "display_data"
    }
   ],
   "source": [
    "plt.figure(figsize = (10,5))\n",
    "plt.title(\"balance vs response\")\n",
    "plt.scatter(df[\"balance\"], df[\"response\"], c = \"r\")\n",
    "plt.show()"
   ]
  },
  {
   "cell_type": "code",
   "execution_count": 43,
   "id": "5bfedb4f",
   "metadata": {},
   "outputs": [
    {
     "data": {
      "image/png": "[encoded data removed]",
      "text/plain": [
       "<Figure size 720x360 with 1 Axes>"
      ]
     },
     "metadata": {
      "needs_background": "light"
     },
     "output_type": "display_data"
    }
   ],
   "source": [
    "plt.figure(figsize = (10,5))\n",
    "plt.title(\"day vs response\")\n",
    "plt.scatter(df[\"day\"], df[\"response\"], c = \"r\")\n",
    "plt.show()"
   ]
  },
  {
   "cell_type": "code",
   "execution_count": 44,
   "id": "d69658b3",
   "metadata": {},
   "outputs": [
    {
     "data": {
      "image/png": "[encoded data removed]",
      "text/plain": [
       "<Figure size 720x360 with 1 Axes>"
      ]
     },
     "metadata": {
      "needs_background": "light"
     },
     "output_type": "display_data"
    }
   ],
   "source": [
    "plt.figure(figsize = (10,5))\n",
    "plt.title(\"duration vs response\")\n",
    "plt.scatter(df[\"duration\"], df[\"response\"], c = \"r\")\n",
    "plt.show()"
   ]
  },
  {
   "cell_type": "code",
   "execution_count": 45,
   "id": "5a5a69fa",
   "metadata": {},
   "outputs": [
    {
     "data": {
      "image/png": "[encoded data removed]",
      "text/plain": [
       "<Figure size 720x360 with 1 Axes>"
      ]
     },
     "metadata": {
      "needs_background": "light"
     },
     "output_type": "display_data"
    }
   ],
   "source": [
    "plt.figure(figsize = (10,5))\n",
    "plt.title(\"campaign vs response\")\n",
    "plt.scatter(df[\"campaign\"], df[\"response\"], c = \"r\")\n",
    "plt.show()"
   ]
  },
  {
   "cell_type": "code",
   "execution_count": 46,
   "id": "461c8b86",
   "metadata": {},
   "outputs": [
    {
     "data": {
      "image/png": "[encoded data removed]",
      "text/plain": [
       "<Figure size 720x360 with 1 Axes>"
      ]
     },
     "metadata": {
      "needs_background": "light"
     },
     "output_type": "display_data"
    }
   ],
   "source": [
    "plt.figure(figsize = (10,5))\n",
    "plt.title(\"previous vs response\")\n",
    "plt.scatter(df[\"previous\"], df[\"response\"], c = \"r\")\n",
    "plt.show()"
   ]
  },
  {
   "cell_type": "markdown",
   "id": "8d354b07",
   "metadata": {},
   "source": [
    "Are the features about the previous campaign data useful?\n"
   ]
  },
  {
   "cell_type": "code",
   "execution_count": 47,
   "id": "edf57b6c",
   "metadata": {},
   "outputs": [],
   "source": [
    "#no , previous features is not usefull"
   ]
  },
  {
   "cell_type": "markdown",
   "id": "6bc8b1e4",
   "metadata": {},
   "source": [
    "Are pdays and poutcome associated with the target? "
   ]
  },
  {
   "cell_type": "code",
   "execution_count": 48,
   "id": "bb2f484c",
   "metadata": {},
   "outputs": [],
   "source": [
    "# NO, pdays and poutcome are also not associated with the target."
   ]
  },
  {
   "cell_type": "code",
   "execution_count": 49,
   "id": "4c8ebed1",
   "metadata": {},
   "outputs": [],
   "source": [
    "#pdays and p outcome has no value and its not associated with target variable its prove by the EDA so it will not be usefull to predict the response."
   ]
  },
  {
   "cell_type": "code",
   "execution_count": null,
   "id": "7ef11da6",
   "metadata": {},
   "outputs": [],
   "source": []
  },
  {
   "cell_type": "code",
   "execution_count": 50,
   "id": "fc59b136",
   "metadata": {},
   "outputs": [],
   "source": [
    "x = df[['age','salary','balance','day','duration',\"campaign\"]]\n",
    "y = df[\"response\"]"
   ]
  },
  {
   "cell_type": "code",
   "execution_count": 51,
   "id": "a895c2f5",
   "metadata": {},
   "outputs": [],
   "source": [
    "from sklearn.model_selection import train_test_split\n",
    "x_train,x_test,y_train,y_test = train_test_split(x,y,test_size=0.2,random_state=0)"
   ]
  },
  {
   "cell_type": "code",
   "execution_count": null,
   "id": "ebaa173e",
   "metadata": {},
   "outputs": [],
   "source": []
  },
  {
   "cell_type": "markdown",
   "id": "2be49c0a",
   "metadata": {},
   "source": [
    "### logistic regression "
   ]
  },
  {
   "cell_type": "code",
   "execution_count": null,
   "id": "5b9ff05f",
   "metadata": {},
   "outputs": [],
   "source": []
  },
  {
   "cell_type": "code",
   "execution_count": 52,
   "id": "fd9c4ef7",
   "metadata": {},
   "outputs": [],
   "source": [
    "from sklearn.preprocessing import StandardScaler\n",
    "sc_x = StandardScaler()\n",
    "x_train2 = pd.DataFrame(sc_x.fit_transform(x_train))\n",
    "x_test2 = pd.DataFrame(sc_x.transform(x_test))\n",
    "x_train2.columns = x_train.columns.values\n",
    "x_test2.columns = x_test.columns.values\n",
    "x_train2.index = x_train.index.values\n",
    "x_test2.index = x_test.index.values\n",
    "x_train = x_train2\n",
    "x_test = x_test2"
   ]
  },
  {
   "cell_type": "code",
   "execution_count": 53,
   "id": "1cd83b23",
   "metadata": {},
   "outputs": [
    {
     "data": {
      "text/html": [
       "<div>\n",
       "<style scoped>\n",
       "    .dataframe tbody tr th:only-of-type {\n",
       "        vertical-align: middle;\n",
       "    }\n",
       "\n",
       "    .dataframe tbody tr th {\n",
       "        vertical-align: top;\n",
       "    }\n",
       "\n",
       "    .dataframe thead th {\n",
       "        text-align: right;\n",
       "    }\n",
       "</style>\n",
       "<table border=\"1\" class=\"dataframe\">\n",
       "  <thead>\n",
       "    <tr style=\"text-align: right;\">\n",
       "      <th></th>\n",
       "      <th>age</th>\n",
       "      <th>salary</th>\n",
       "      <th>balance</th>\n",
       "      <th>day</th>\n",
       "      <th>duration</th>\n",
       "      <th>campaign</th>\n",
       "    </tr>\n",
       "  </thead>\n",
       "  <tbody>\n",
       "    <tr>\n",
       "      <th>13932</th>\n",
       "      <td>1.553449</td>\n",
       "      <td>-0.223433</td>\n",
       "      <td>-0.236134</td>\n",
       "      <td>-0.698514</td>\n",
       "      <td>1.808943</td>\n",
       "      <td>-0.868259</td>\n",
       "    </tr>\n",
       "    <tr>\n",
       "      <th>9894</th>\n",
       "      <td>-0.370993</td>\n",
       "      <td>-1.779929</td>\n",
       "      <td>0.646502</td>\n",
       "      <td>-0.818717</td>\n",
       "      <td>-0.755580</td>\n",
       "      <td>-0.868259</td>\n",
       "    </tr>\n",
       "    <tr>\n",
       "      <th>39946</th>\n",
       "      <td>-0.563437</td>\n",
       "      <td>0.087866</td>\n",
       "      <td>1.599512</td>\n",
       "      <td>-1.660136</td>\n",
       "      <td>-0.604270</td>\n",
       "      <td>1.010222</td>\n",
       "    </tr>\n",
       "    <tr>\n",
       "      <th>9217</th>\n",
       "      <td>-0.563437</td>\n",
       "      <td>-0.223433</td>\n",
       "      <td>-0.612590</td>\n",
       "      <td>-1.299528</td>\n",
       "      <td>-0.041704</td>\n",
       "      <td>-0.868259</td>\n",
       "    </tr>\n",
       "    <tr>\n",
       "      <th>4124</th>\n",
       "      <td>-0.274771</td>\n",
       "      <td>0.399165</td>\n",
       "      <td>-0.520172</td>\n",
       "      <td>0.383311</td>\n",
       "      <td>-0.464598</td>\n",
       "      <td>-0.868259</td>\n",
       "    </tr>\n",
       "  </tbody>\n",
       "</table>\n",
       "</div>"
      ],
      "text/plain": [
       "            age    salary   balance       day  duration  campaign\n",
       "13932  1.553449 -0.223433 -0.236134 -0.698514  1.808943 -0.868259\n",
       "9894  -0.370993 -1.779929  0.646502 -0.818717 -0.755580 -0.868259\n",
       "39946 -0.563437  0.087866  1.599512 -1.660136 -0.604270  1.010222\n",
       "9217  -0.563437 -0.223433 -0.612590 -1.299528 -0.041704 -0.868259\n",
       "4124  -0.274771  0.399165 -0.520172  0.383311 -0.464598 -0.868259"
      ]
     },
     "execution_count": 53,
     "metadata": {},
     "output_type": "execute_result"
    }
   ],
   "source": [
    "x_train.head(5)"
   ]
  },
  {
   "cell_type": "code",
   "execution_count": 54,
   "id": "7763b3b1",
   "metadata": {},
   "outputs": [
    {
     "data": {
      "text/html": [
       "<div>\n",
       "<style scoped>\n",
       "    .dataframe tbody tr th:only-of-type {\n",
       "        vertical-align: middle;\n",
       "    }\n",
       "\n",
       "    .dataframe tbody tr th {\n",
       "        vertical-align: top;\n",
       "    }\n",
       "\n",
       "    .dataframe thead th {\n",
       "        text-align: right;\n",
       "    }\n",
       "</style>\n",
       "<table border=\"1\" class=\"dataframe\">\n",
       "  <thead>\n",
       "    <tr style=\"text-align: right;\">\n",
       "      <th></th>\n",
       "      <th>age</th>\n",
       "      <th>salary</th>\n",
       "      <th>balance</th>\n",
       "      <th>day</th>\n",
       "      <th>duration</th>\n",
       "      <th>campaign</th>\n",
       "    </tr>\n",
       "  </thead>\n",
       "  <tbody>\n",
       "    <tr>\n",
       "      <th>14001</th>\n",
       "      <td>-0.370993</td>\n",
       "      <td>1.333062</td>\n",
       "      <td>0.395531</td>\n",
       "      <td>-0.698514</td>\n",
       "      <td>-0.646947</td>\n",
       "      <td>2.262543</td>\n",
       "    </tr>\n",
       "    <tr>\n",
       "      <th>32046</th>\n",
       "      <td>-0.467215</td>\n",
       "      <td>0.399165</td>\n",
       "      <td>-1.008547</td>\n",
       "      <td>-0.217703</td>\n",
       "      <td>3.162980</td>\n",
       "      <td>-0.868259</td>\n",
       "    </tr>\n",
       "    <tr>\n",
       "      <th>13318</th>\n",
       "      <td>0.591228</td>\n",
       "      <td>-1.157331</td>\n",
       "      <td>-1.138272</td>\n",
       "      <td>-0.938919</td>\n",
       "      <td>-0.057223</td>\n",
       "      <td>1.636382</td>\n",
       "    </tr>\n",
       "    <tr>\n",
       "      <th>42991</th>\n",
       "      <td>1.553449</td>\n",
       "      <td>-1.281850</td>\n",
       "      <td>-0.369251</td>\n",
       "      <td>-0.578311</td>\n",
       "      <td>-0.592630</td>\n",
       "      <td>2.262543</td>\n",
       "    </tr>\n",
       "    <tr>\n",
       "      <th>14237</th>\n",
       "      <td>-0.755881</td>\n",
       "      <td>-1.157331</td>\n",
       "      <td>-1.138272</td>\n",
       "      <td>-0.217703</td>\n",
       "      <td>0.288076</td>\n",
       "      <td>-0.242099</td>\n",
       "    </tr>\n",
       "  </tbody>\n",
       "</table>\n",
       "</div>"
      ],
      "text/plain": [
       "            age    salary   balance       day  duration  campaign\n",
       "14001 -0.370993  1.333062  0.395531 -0.698514 -0.646947  2.262543\n",
       "32046 -0.467215  0.399165 -1.008547 -0.217703  3.162980 -0.868259\n",
       "13318  0.591228 -1.157331 -1.138272 -0.938919 -0.057223  1.636382\n",
       "42991  1.553449 -1.281850 -0.369251 -0.578311 -0.592630  2.262543\n",
       "14237 -0.755881 -1.157331 -1.138272 -0.217703  0.288076 -0.242099"
      ]
     },
     "execution_count": 54,
     "metadata": {},
     "output_type": "execute_result"
    }
   ],
   "source": [
    "x_test.head(5)"
   ]
  },
  {
   "cell_type": "code",
   "execution_count": 55,
   "id": "bf0cdd10",
   "metadata": {},
   "outputs": [
    {
     "data": {
      "text/plain": [
       "LogisticRegression()"
      ]
     },
     "execution_count": 55,
     "metadata": {},
     "output_type": "execute_result"
    }
   ],
   "source": [
    "from sklearn.linear_model import LogisticRegression\n",
    "classifier = LogisticRegression()\n",
    "classifier.fit(x_train, y_train)"
   ]
  },
  {
   "cell_type": "code",
   "execution_count": 56,
   "id": "b80c1fd0",
   "metadata": {
    "scrolled": true
   },
   "outputs": [
    {
     "data": {
      "text/html": [
       "<div>\n",
       "<style scoped>\n",
       "    .dataframe tbody tr th:only-of-type {\n",
       "        vertical-align: middle;\n",
       "    }\n",
       "\n",
       "    .dataframe tbody tr th {\n",
       "        vertical-align: top;\n",
       "    }\n",
       "\n",
       "    .dataframe thead th {\n",
       "        text-align: right;\n",
       "    }\n",
       "</style>\n",
       "<table border=\"1\" class=\"dataframe\">\n",
       "  <thead>\n",
       "    <tr style=\"text-align: right;\">\n",
       "      <th></th>\n",
       "      <th>Model</th>\n",
       "      <th>Accuracy</th>\n",
       "      <th>Precision</th>\n",
       "      <th>Recall</th>\n",
       "      <th>F1 Score</th>\n",
       "    </tr>\n",
       "  </thead>\n",
       "  <tbody>\n",
       "    <tr>\n",
       "      <th>0</th>\n",
       "      <td>Logistic Regression (Lasso)</td>\n",
       "      <td>0.887648</td>\n",
       "      <td>0.578073</td>\n",
       "      <td>0.163688</td>\n",
       "      <td>0.255132</td>\n",
       "    </tr>\n",
       "  </tbody>\n",
       "</table>\n",
       "</div>"
      ],
      "text/plain": [
       "                         Model  Accuracy  Precision    Recall  F1 Score\n",
       "0  Logistic Regression (Lasso)  0.887648   0.578073  0.163688  0.255132"
      ]
     },
     "execution_count": 56,
     "metadata": {},
     "output_type": "execute_result"
    }
   ],
   "source": [
    "y_pred = classifier.predict(x_test)\n",
    "from sklearn.metrics import accuracy_score, f1_score,recall_score,precision_score, confusion_matrix\n",
    "acc = accuracy_score(y_test,y_pred)\n",
    "prec = precision_score(y_test, y_pred)\n",
    "rec = recall_score(y_test, y_pred)\n",
    "f1 = f1_score(y_test,y_pred)\n",
    "results = pd.DataFrame([['Logistic Regression (Lasso)', acc,prec,rec,f1]],columns=['Model', 'Accuracy', 'Precision', 'Recall','F1 Score'])\n",
    "results"
   ]
  },
  {
   "cell_type": "code",
   "execution_count": 57,
   "id": "bf96cf32",
   "metadata": {},
   "outputs": [],
   "source": [
    "from sklearn.metrics import confusion_matrix, classification_report"
   ]
  },
  {
   "cell_type": "code",
   "execution_count": 58,
   "id": "60c5e576",
   "metadata": {},
   "outputs": [],
   "source": [
    "cm = confusion_matrix(y_test,y_pred)"
   ]
  },
  {
   "cell_type": "code",
   "execution_count": 59,
   "id": "d68bbac6",
   "metadata": {},
   "outputs": [
    {
     "name": "stdout",
     "output_type": "stream",
     "text": [
      "[[7853  127]\n",
      " [ 889  174]]\n"
     ]
    }
   ],
   "source": [
    "print(cm)"
   ]
  },
  {
   "cell_type": "code",
   "execution_count": 60,
   "id": "41eac0ea",
   "metadata": {},
   "outputs": [],
   "source": [
    "cr = classification_report(y_test,y_pred)"
   ]
  },
  {
   "cell_type": "code",
   "execution_count": 61,
   "id": "ce9ca0e8",
   "metadata": {},
   "outputs": [
    {
     "name": "stdout",
     "output_type": "stream",
     "text": [
      "              precision    recall  f1-score   support\n",
      "\n",
      "           0       0.90      0.98      0.94      7980\n",
      "           1       0.58      0.16      0.26      1063\n",
      "\n",
      "    accuracy                           0.89      9043\n",
      "   macro avg       0.74      0.57      0.60      9043\n",
      "weighted avg       0.86      0.89      0.86      9043\n",
      "\n"
     ]
    }
   ],
   "source": [
    "print(cr)"
   ]
  },
  {
   "cell_type": "code",
   "execution_count": 62,
   "id": "5359c0aa",
   "metadata": {},
   "outputs": [],
   "source": [
    "from sklearn.metrics import roc_auc_score\n",
    "from sklearn.metrics import roc_curve"
   ]
  },
  {
   "cell_type": "code",
   "execution_count": 63,
   "id": "777bd59f",
   "metadata": {},
   "outputs": [
    {
     "data": {
      "image/png": "[encoded data removed]",
      "text/plain": [
       "<Figure size 1080x576 with 1 Axes>"
      ]
     },
     "metadata": {
      "needs_background": "light"
     },
     "output_type": "display_data"
    }
   ],
   "source": [
    "roc_score = roc_auc_score(y_test, classifier.predict(x_test), multi_class = \"ovr\")\n",
    "fpr, tpr, thresholds = roc_curve(y_test, classifier.predict_proba(x_test)[:,1])\n",
    "plt.figure(figsize = (15, 8))\n",
    "plt.plot(fpr, tpr, label = 'Random Forest (area = %0.2f)' % roc_score)\n",
    "plt.plot([0,1], [0,1], 'r--')\n",
    "plt.xlim([0.0, 1.0])\n",
    "plt.ylim([0.0, 1.0])\n",
    "plt.xlabel('False Positive Rate')\n",
    "plt.ylabel('True Positive Rate')\n",
    "plt.title('Receiver Operating Characteristics Curve')\n",
    "plt.legend(loc='lower right')\n",
    "plt.show()"
   ]
  },
  {
   "cell_type": "code",
   "execution_count": 64,
   "id": "72f60810",
   "metadata": {},
   "outputs": [
    {
     "name": "stdout",
     "output_type": "stream",
     "text": [
      "Logistic Regression (Lasso) Accuracy: 0.889 (+/- 0.006)\n"
     ]
    }
   ],
   "source": [
    "#Applying K-folds validation\n",
    "from sklearn.model_selection import cross_val_score\n",
    "accuracies = cross_val_score(estimator= classifier, X=x_train, y=y_train, cv=10)\n",
    "accuracies.mean()\n",
    "accuracies.std()\n",
    "print('Logistic Regression (Lasso) Accuracy: %0.3f (+/- %0.3f)' % (accuracies.mean(), accuracies.std() * 2))"
   ]
  },
  {
   "cell_type": "code",
   "execution_count": 65,
   "id": "91545c6a",
   "metadata": {},
   "outputs": [
    {
     "data": {
      "text/html": [
       "<div>\n",
       "<style scoped>\n",
       "    .dataframe tbody tr th:only-of-type {\n",
       "        vertical-align: middle;\n",
       "    }\n",
       "\n",
       "    .dataframe tbody tr th {\n",
       "        vertical-align: top;\n",
       "    }\n",
       "\n",
       "    .dataframe thead th {\n",
       "        text-align: right;\n",
       "    }\n",
       "</style>\n",
       "<table border=\"1\" class=\"dataframe\">\n",
       "  <thead>\n",
       "    <tr style=\"text-align: right;\">\n",
       "      <th></th>\n",
       "      <th>features</th>\n",
       "      <th>coef</th>\n",
       "    </tr>\n",
       "  </thead>\n",
       "  <tbody>\n",
       "    <tr>\n",
       "      <th>0</th>\n",
       "      <td>age</td>\n",
       "      <td>0.033470</td>\n",
       "    </tr>\n",
       "    <tr>\n",
       "      <th>1</th>\n",
       "      <td>salary</td>\n",
       "      <td>0.068510</td>\n",
       "    </tr>\n",
       "    <tr>\n",
       "      <th>2</th>\n",
       "      <td>balance</td>\n",
       "      <td>0.251929</td>\n",
       "    </tr>\n",
       "    <tr>\n",
       "      <th>3</th>\n",
       "      <td>day</td>\n",
       "      <td>-0.051974</td>\n",
       "    </tr>\n",
       "    <tr>\n",
       "      <th>4</th>\n",
       "      <td>duration</td>\n",
       "      <td>0.927798</td>\n",
       "    </tr>\n",
       "    <tr>\n",
       "      <th>5</th>\n",
       "      <td>campaign</td>\n",
       "      <td>-0.328906</td>\n",
       "    </tr>\n",
       "  </tbody>\n",
       "</table>\n",
       "</div>"
      ],
      "text/plain": [
       "   features      coef\n",
       "0       age  0.033470\n",
       "1    salary  0.068510\n",
       "2   balance  0.251929\n",
       "3       day -0.051974\n",
       "4  duration  0.927798\n",
       "5  campaign -0.328906"
      ]
     },
     "execution_count": 65,
     "metadata": {},
     "output_type": "execute_result"
    }
   ],
   "source": [
    "#Analyzing the coefficients\n",
    "pd.concat([pd.DataFrame(x_train.columns, columns = [\"features\"]),\n",
    "           pd.DataFrame(np.transpose(classifier.coef_), columns = [\"coef\"])\n",
    "           ],axis = 1)"
   ]
  },
  {
   "cell_type": "code",
   "execution_count": 66,
   "id": "c478c9c1",
   "metadata": {},
   "outputs": [
    {
     "name": "stdout",
     "output_type": "stream",
     "text": [
      "[False False  True False  True  True]\n",
      "[4 2 1 3 1 1]\n"
     ]
    },
    {
     "data": {
      "text/plain": [
       "Index(['balance', 'duration', 'campaign'], dtype='object')"
      ]
     },
     "execution_count": 66,
     "metadata": {},
     "output_type": "execute_result"
    }
   ],
   "source": [
    "#Feature selection \n",
    "#Recursive feature elimination\n",
    "from sklearn.feature_selection import RFE\n",
    "\n",
    "#Select best feature \n",
    "rfe = RFE(classifier, n_features_to_select= None)\n",
    "rfe = rfe.fit(x_train, y_train)\n",
    "\n",
    "#Summarize the selection of the attributes\n",
    "print(rfe.support_)\n",
    "print(rfe.ranking_)\n",
    "x_train.columns[rfe.support_]"
   ]
  },
  {
   "cell_type": "code",
   "execution_count": 67,
   "id": "89247f29",
   "metadata": {},
   "outputs": [
    {
     "name": "stderr",
     "output_type": "stream",
     "text": [
      "<ipython-input-67-ed4d753d9be2>:8: DeprecationWarning: `np.bool` is a deprecated alias for the builtin `bool`. To silence this warning, use `bool` by itself. Doing this will not modify any behavior and is safe. If you specifically wanted the numpy scalar type, use `np.bool_` here.\n",
      "Deprecated in NumPy 1.20; for more details and guidance: https://numpy.org/devdocs/release/1.20.0-notes.html#deprecations\n",
      "  mask = np.zeros_like(corr, dtype=np.bool)\n"
     ]
    },
    {
     "data": {
      "text/plain": [
       "<AxesSubplot:>"
      ]
     },
     "execution_count": 67,
     "metadata": {},
     "output_type": "execute_result"
    },
    {
     "data": {
      "image/png": "[encoded data removed]",
      "text/plain": [
       "<Figure size 1296x1080 with 2 Axes>"
      ]
     },
     "metadata": {},
     "output_type": "display_data"
    }
   ],
   "source": [
    "# New Correlation Matrix\n",
    "sns.set(style=\"white\")\n",
    "\n",
    "# Compute the correlation matrix\n",
    "corr = x_train[x_train.columns[rfe.support_]].corr()\n",
    "\n",
    "# Generate a mask for the upper triangle\n",
    "mask = np.zeros_like(corr, dtype=np.bool)\n",
    "mask[np.triu_indices_from(mask)] = True\n",
    "\n",
    "# Set up the matplotlib figure\n",
    "f, ax = plt.subplots(figsize=(18, 15))\n",
    "\n",
    "# Generate a custom diverging colormap\n",
    "cmap = sns.diverging_palette(220, 10, as_cmap=True)\n",
    "\n",
    "# Draw the heatmap with the mask and correct aspect ratio\n",
    "sns.heatmap(corr, mask=mask, cmap=cmap, vmax=.3, center=0,\n",
    "            square=True, linewidths=.5, cbar_kws={\"shrink\": .5})  "
   ]
  },
  {
   "cell_type": "code",
   "execution_count": 68,
   "id": "7dfa6d64",
   "metadata": {},
   "outputs": [
    {
     "data": {
      "text/html": [
       "<div>\n",
       "<style scoped>\n",
       "    .dataframe tbody tr th:only-of-type {\n",
       "        vertical-align: middle;\n",
       "    }\n",
       "\n",
       "    .dataframe tbody tr th {\n",
       "        vertical-align: top;\n",
       "    }\n",
       "\n",
       "    .dataframe thead th {\n",
       "        text-align: right;\n",
       "    }\n",
       "</style>\n",
       "<table border=\"1\" class=\"dataframe\">\n",
       "  <thead>\n",
       "    <tr style=\"text-align: right;\">\n",
       "      <th></th>\n",
       "      <th>Model</th>\n",
       "      <th>Accuracy</th>\n",
       "      <th>Precision</th>\n",
       "      <th>Recall</th>\n",
       "      <th>F1 Score</th>\n",
       "    </tr>\n",
       "  </thead>\n",
       "  <tbody>\n",
       "    <tr>\n",
       "      <th>0</th>\n",
       "      <td>Logistic Regression (Lasso)</td>\n",
       "      <td>0.887648</td>\n",
       "      <td>0.578073</td>\n",
       "      <td>0.163688</td>\n",
       "      <td>0.255132</td>\n",
       "    </tr>\n",
       "    <tr>\n",
       "      <th>1</th>\n",
       "      <td>Logistic Regression RFE (Lasso)</td>\n",
       "      <td>0.886984</td>\n",
       "      <td>0.568106</td>\n",
       "      <td>0.160865</td>\n",
       "      <td>0.250733</td>\n",
       "    </tr>\n",
       "  </tbody>\n",
       "</table>\n",
       "</div>"
      ],
      "text/plain": [
       "                             Model  Accuracy  Precision    Recall  F1 Score\n",
       "0      Logistic Regression (Lasso)  0.887648   0.578073  0.163688  0.255132\n",
       "1  Logistic Regression RFE (Lasso)  0.886984   0.568106  0.160865  0.250733"
      ]
     },
     "execution_count": 68,
     "metadata": {},
     "output_type": "execute_result"
    }
   ],
   "source": [
    "# Fitting Model to the Training Set\n",
    "from sklearn.linear_model import LogisticRegression\n",
    "classifier = LogisticRegression()\n",
    "classifier.fit(x_train[x_train.columns[rfe.support_]], y_train)\n",
    "\n",
    "# Predicting Test Set\n",
    "y_pred = classifier.predict(x_test[x_train.columns[rfe.support_]])\n",
    "acc = accuracy_score(y_test, y_pred)\n",
    "prec = precision_score(y_test, y_pred)\n",
    "rec = recall_score(y_test, y_pred)\n",
    "f1 = f1_score(y_test, y_pred)\n",
    "\n",
    "model_results = pd.DataFrame([['Logistic Regression RFE (Lasso)', acc, prec, rec, f1]],\n",
    "               columns = ['Model', 'Accuracy', 'Precision', 'Recall', 'F1 Score'])\n",
    "\n",
    "results = results.append(model_results, ignore_index = True)\n",
    "results"
   ]
  },
  {
   "cell_type": "code",
   "execution_count": 69,
   "id": "4373f219",
   "metadata": {},
   "outputs": [],
   "source": [
    "from scipy import integrate\n",
    "def capcurve(y_values, y_preds_proba):\n",
    "    num_pos_obs = np.sum(y_values)\n",
    "    num_count = len(y_values)\n",
    "    rate_pos_obs = float(num_pos_obs) / float(num_count)\n",
    "    ideal = pd.DataFrame({'x':[0,rate_pos_obs,1],'y':[0,1,1]})\n",
    "    xx = np.arange(num_count) / float(num_count - 1)\n",
    "    \n",
    "    y_cap = np.c_[y_values,y_preds_proba]\n",
    "    y_cap_df_s = pd.DataFrame(data=y_cap)\n",
    "    y_cap_df_s = y_cap_df_s.sort_values([1], ascending=False).reset_index(level = y_cap_df_s.index.names, drop=True)\n",
    "    \n",
    "    print(y_cap_df_s.head(20))\n",
    "    \n",
    "    yy = np.cumsum(y_cap_df_s[0]) / float(num_pos_obs)\n",
    "    yy = np.append([0], yy[0:num_count-1]) #add the first curve point (0,0) : for xx=0 we have yy=0\n",
    "    \n",
    "    percent = 0.5\n",
    "    row_index = int(np.trunc(num_count * percent))\n",
    "    \n",
    "    val_y1 = yy[row_index]\n",
    "    val_y2 = yy[row_index+1]\n",
    "    if val_y1 == val_y2:\n",
    "        val = val_y1*1.0\n",
    "    else:\n",
    "        val_x1 = xx[row_index]\n",
    "        val_x2 = xx[row_index+1]\n",
    "        val = val_y1 + ((val_x2 - percent)/(val_x2 - val_x1))*(val_y2 - val_y1)\n",
    "    \n",
    "    sigma_ideal = 1 * xx[num_pos_obs - 1 ] / 2 + (xx[num_count - 1] - xx[num_pos_obs]) * 1\n",
    "    sigma_model = integrate.simps(yy,xx)\n",
    "    sigma_random = integrate.simps(xx,xx)\n",
    "    \n",
    "    ar_value = (sigma_model - sigma_random) / (sigma_ideal - sigma_random)\n",
    "    \n",
    "    fig, ax = plt.subplots(nrows = 1, ncols = 1)\n",
    "    ax.plot(ideal['x'],ideal['y'], color='grey', label='Perfect Model')\n",
    "    ax.plot(xx,yy, color='red', label='User Model')\n",
    "    ax.plot(xx,xx, color='blue', label='Random Model')\n",
    "    ax.plot([percent, percent], [0.0, val], color='green', linestyle='--', linewidth=1)\n",
    "    ax.plot([0, percent], [val, val], color='green', linestyle='--', linewidth=1, label=str(val*100)+'% of positive obs at '+str(percent*100)+'%')\n",
    "    \n",
    "    plt.xlim(0, 1.02)\n",
    "    plt.ylim(0, 1.25)\n",
    "    plt.title(\"CAP Curve - a_r value =\"+str(ar_value))\n",
    "    plt.xlabel('% of the data')\n",
    "    plt.ylabel('% of positive obs')\n",
    "    plt.legend()"
   ]
  },
  {
   "cell_type": "code",
   "execution_count": 70,
   "id": "08cdc5c4",
   "metadata": {},
   "outputs": [
    {
     "name": "stdout",
     "output_type": "stream",
     "text": [
      "      0         1\n",
      "0   1.0  0.999789\n",
      "1   1.0  0.999673\n",
      "2   1.0  0.999424\n",
      "3   1.0  0.998878\n",
      "4   1.0  0.997701\n",
      "5   0.0  0.995413\n",
      "6   0.0  0.992882\n",
      "7   1.0  0.989520\n",
      "8   1.0  0.988200\n",
      "9   0.0  0.986920\n",
      "10  1.0  0.986394\n",
      "11  0.0  0.986202\n",
      "12  1.0  0.984797\n",
      "13  0.0  0.984123\n",
      "14  0.0  0.983681\n",
      "15  0.0  0.980586\n",
      "16  0.0  0.976778\n",
      "17  0.0  0.976548\n",
      "18  1.0  0.974173\n",
      "19  1.0  0.970144\n"
     ]
    },
    {
     "data": {
      "image/png": "[encoded data removed]",
      "text/plain": [
       "<Figure size 432x288 with 1 Axes>"
      ]
     },
     "metadata": {},
     "output_type": "display_data"
    }
   ],
   "source": [
    "y_pred_prob = classifier.predict_proba(x_test[x_train.columns[rfe.support_]])\n",
    "capcurve(y_test,y_pred_prob[:,1])"
   ]
  },
  {
   "cell_type": "code",
   "execution_count": null,
   "id": "1f66c4bd",
   "metadata": {},
   "outputs": [],
   "source": []
  },
  {
   "cell_type": "code",
   "execution_count": null,
   "id": "2e7f235e",
   "metadata": {},
   "outputs": [],
   "source": []
  },
  {
   "cell_type": "code",
   "execution_count": null,
   "id": "2fe3e927",
   "metadata": {},
   "outputs": [],
   "source": []
  },
  {
   "cell_type": "markdown",
   "id": "cd249b13",
   "metadata": {},
   "source": [
    "### RandomForest classification"
   ]
  },
  {
   "cell_type": "code",
   "execution_count": 71,
   "id": "e8bc2424",
   "metadata": {},
   "outputs": [
    {
     "name": "stdout",
     "output_type": "stream",
     "text": [
      "            age    salary   balance       day  duration  campaign\n",
      "13932  1.553449 -0.223433 -0.236134 -0.698514  1.808943 -0.868259\n",
      "9894  -0.370993 -1.779929  0.646502 -0.818717 -0.755580 -0.868259\n",
      "===================================\n",
      "            age    salary   balance       day  duration  campaign\n",
      "14001 -0.370993  1.333062  0.395531 -0.698514 -0.646947  2.262543\n",
      "32046 -0.467215  0.399165 -1.008547 -0.217703  3.162980 -0.868259\n",
      "===================================\n",
      "13932    1\n",
      "9894     0\n",
      "Name: response, dtype: int32\n",
      "===================================\n",
      "14001    0\n",
      "32046    1\n",
      "Name: response, dtype: int32\n",
      "===================================\n"
     ]
    }
   ],
   "source": [
    "a = [x_train, x_test, y_train, y_test]\n",
    "for i in a:\n",
    "    print(i.head(2))\n",
    "    print(\"=======\"*5)"
   ]
  },
  {
   "cell_type": "code",
   "execution_count": 72,
   "id": "0cece80f",
   "metadata": {},
   "outputs": [],
   "source": [
    "from sklearn.ensemble import RandomForestClassifier\n",
    "\n",
    "clf = RandomForestClassifier(n_estimators=50)\n",
    "\n",
    "model = clf.fit(x_train,y_train)\n",
    "\n",
    "y_pred=clf.predict(x_test)"
   ]
  },
  {
   "cell_type": "code",
   "execution_count": 73,
   "id": "e6432295",
   "metadata": {},
   "outputs": [
    {
     "name": "stdout",
     "output_type": "stream",
     "text": [
      "Accuracy: 0.8866526595156474\n"
     ]
    }
   ],
   "source": [
    "from sklearn import metrics\n",
    "print(\"Accuracy:\", metrics.accuracy_score(y_test, y_pred))"
   ]
  },
  {
   "cell_type": "code",
   "execution_count": 74,
   "id": "0db12dea",
   "metadata": {},
   "outputs": [
    {
     "name": "stdout",
     "output_type": "stream",
     "text": [
      "Error Metrics\n",
      "              precision    recall  f1-score   support\n",
      "\n",
      "           0       0.91      0.97      0.94      7980\n",
      "           1       0.54      0.25      0.35      1063\n",
      "\n",
      "    accuracy                           0.89      9043\n",
      "   macro avg       0.72      0.61      0.64      9043\n",
      "weighted avg       0.86      0.89      0.87      9043\n",
      "\n"
     ]
    }
   ],
   "source": [
    "print('Error Metrics')\n",
    "em = metrics.classification_report(y_test, y_pred)\n",
    "print(em)\n"
   ]
  },
  {
   "cell_type": "code",
   "execution_count": 75,
   "id": "59c41264",
   "metadata": {},
   "outputs": [],
   "source": [
    "from sklearn.metrics import confusion_matrix, classification_report"
   ]
  },
  {
   "cell_type": "code",
   "execution_count": 76,
   "id": "3ae04885",
   "metadata": {},
   "outputs": [
    {
     "name": "stdout",
     "output_type": "stream",
     "text": [
      "[[7747  233]\n",
      " [ 792  271]]\n"
     ]
    }
   ],
   "source": [
    "cm = confusion_matrix(y_test,y_pred)\n",
    "print(cm)"
   ]
  },
  {
   "cell_type": "code",
   "execution_count": 83,
   "id": "cde1fb14",
   "metadata": {},
   "outputs": [
    {
     "name": "stdout",
     "output_type": "stream",
     "text": [
      "Random Forest Classifier Accuracy: 0.888 (+/- 0.010)\n"
     ]
    }
   ],
   "source": [
    "#Applying K-folds validation\n",
    "from sklearn.model_selection import cross_val_score\n",
    "accuracies1 = cross_val_score(estimator= clf, X=x_train, y=y_train, cv=10)\n",
    "accuracies1.mean()\n",
    "accuracies1.std()\n",
    "print('Random Forest Classifier Accuracy: %0.3f (+/- %0.3f)' % (accuracies1.mean(), accuracies1.std() * 2))"
   ]
  },
  {
   "cell_type": "code",
   "execution_count": null,
   "id": "93b57452",
   "metadata": {},
   "outputs": [],
   "source": []
  },
  {
   "cell_type": "code",
   "execution_count": 78,
   "id": "cd3977e7",
   "metadata": {},
   "outputs": [
    {
     "data": {
      "text/plain": [
       "duration    0.373654\n",
       "balance     0.188317\n",
       "age         0.169382\n",
       "day         0.146674\n",
       "salary      0.076158\n",
       "campaign    0.045815\n",
       "dtype: float64"
      ]
     },
     "execution_count": 78,
     "metadata": {},
     "output_type": "execute_result"
    }
   ],
   "source": [
    "import pandas as pd\n",
    "feature_imp = pd.Series(clf.feature_importances_,index=x_train.columns).sort_values(ascending=False)\n",
    "feature_imp"
   ]
  },
  {
   "cell_type": "code",
   "execution_count": 79,
   "id": "7bef3ec5",
   "metadata": {},
   "outputs": [
    {
     "name": "stderr",
     "output_type": "stream",
     "text": [
      "No handles with labels found to put in legend.\n"
     ]
    },
    {
     "data": {
      "image/png": "[encoded data removed]",
      "text/plain": [
       "<Figure size 432x288 with 1 Axes>"
      ]
     },
     "metadata": {
      "needs_background": "light"
     },
     "output_type": "display_data"
    }
   ],
   "source": [
    "import matplotlib.pyplot as plt\n",
    "import seaborn as sns\n",
    "%matplotlib inline\n",
    "# Creating a bar plot\n",
    "sns.barplot(x=feature_imp, y=feature_imp.index)\n",
    "plt.xlabel('Feature Importance Score')\n",
    "plt.ylabel('Features')\n",
    "plt.title(\"Visualizing Important Features\")\n",
    "plt.legend()\n",
    "plt.show()"
   ]
  },
  {
   "cell_type": "code",
   "execution_count": 80,
   "id": "f0308af9",
   "metadata": {},
   "outputs": [],
   "source": [
    "from sklearn.metrics import roc_auc_score\n",
    "from sklearn.metrics import roc_curve"
   ]
  },
  {
   "cell_type": "code",
   "execution_count": 81,
   "id": "55d26285",
   "metadata": {},
   "outputs": [
    {
     "data": {
      "image/png": "[encoded data removed]",
      "text/plain": [
       "<Figure size 1080x576 with 1 Axes>"
      ]
     },
     "metadata": {
      "needs_background": "light"
     },
     "output_type": "display_data"
    }
   ],
   "source": [
    "roc_score = roc_auc_score(y_test, model.predict(x_test), multi_class = \"ovr\")\n",
    "fpr, tpr, thresholds = roc_curve(y_test, model.predict_proba(x_test)[:,1])\n",
    "plt.figure(figsize = (15, 8))\n",
    "plt.plot(fpr, tpr, label = 'Random Forest (area = %0.2f)' % roc_score)\n",
    "plt.plot([0,1], [0,1], 'r--')\n",
    "plt.xlim([0.0, 1.0])\n",
    "plt.ylim([0.0, 1.0])\n",
    "plt.xlabel('False Positive Rate')\n",
    "plt.ylabel('True Positive Rate')\n",
    "plt.title('Receiver Operating Characteristics Curve')\n",
    "plt.legend(loc='lower right')\n",
    "plt.show()"
   ]
  },
  {
   "cell_type": "code",
   "execution_count": null,
   "id": "21f8278a",
   "metadata": {},
   "outputs": [],
   "source": []
  },
  {
   "cell_type": "markdown",
   "id": "fd3714d0",
   "metadata": {},
   "source": [
    "### Compare the performance of the Random Forest and the logistic model "
   ]
  },
  {
   "cell_type": "markdown",
   "id": "c2926694",
   "metadata": {},
   "source": [
    "Evaluate both models on the test set"
   ]
  },
  {
   "cell_type": "markdown",
   "id": "c9ad1379",
   "metadata": {},
   "source": [
    "### For Logistic regression model\n",
    "               precision    recall  f1-score   support\n",
    "\n",
    "           0       0.90      0.98      0.94      7980\n",
    "           1       0.58      0.16      0.26      1063\n",
    "\n",
    "        accuracy                           0.89      9043\n",
    "       macro avg       0.74      0.57      0.60      9043\n",
    "     weighted avg       0.86      0.89      0.86      9043\n"
   ]
  },
  {
   "cell_type": "markdown",
   "id": "bebad890",
   "metadata": {},
   "source": [
    "### for Random forest regressor\n",
    "    Error Metrics\n",
    "                precision    recall  f1-score   support\n",
    "\n",
    "           0       0.91      0.97      0.94      7980\n",
    "           1       0.52      0.25      0.34      1063\n",
    "\n",
    "        accuracy                           0.88      9043\n",
    "       macro avg       0.71      0.61      0.64      9043\n",
    "     weighted avg       0.86      0.88      0.87      9043\n"
   ]
  },
  {
   "cell_type": "markdown",
   "id": "50448728",
   "metadata": {},
   "source": [
    "Here Both the model has same accuracy  , so we can accept any model for prediction."
   ]
  },
  {
   "cell_type": "markdown",
   "id": "102b54d8",
   "metadata": {},
   "source": []
  },
  {
   "cell_type": "markdown",
   "id": "6d7f7575",
   "metadata": {},
   "source": [
    "### Which metric did you choose and why?"
   ]
  },
  {
   "cell_type": "markdown",
   "id": "a2229245",
   "metadata": {},
   "source": []
  },
  {
   "cell_type": "markdown",
   "id": "0939c494",
   "metadata": {},
   "source": [
    "### Which model has better performance on the test set? "
   ]
  },
  {
   "cell_type": "markdown",
   "id": "9eb613c0",
   "metadata": {},
   "source": [
    "Both model has same performance and accuracy."
   ]
  },
  {
   "cell_type": "markdown",
   "id": "659f463f",
   "metadata": {},
   "source": [
    "### Compare the feature importance from the different models – do they agree? Are the top features similar in both models?"
   ]
  },
  {
   "cell_type": "markdown",
   "id": "4789ef99",
   "metadata": {},
   "source": [
    "#### For Logistic regression model"
   ]
  },
  {
   "cell_type": "markdown",
   "id": "0ced6f20",
   "metadata": {},
   "source": [
    "\tfeatures\t      coef\n",
    "    age\t        0.033470\n",
    "    salary\t     0.068510\n",
    "    balance\t    0.251929\n",
    "    day\t       -0.051974\n",
    "    duration       0.927798\n",
    "    campaign      -0.328906"
   ]
  },
  {
   "cell_type": "markdown",
   "id": "c29e038f",
   "metadata": {},
   "source": [
    "Here Duration is the very important feature for model prediction"
   ]
  },
  {
   "cell_type": "markdown",
   "id": "63dc5713",
   "metadata": {},
   "source": [
    "#### For Random forest regressor"
   ]
  },
  {
   "cell_type": "markdown",
   "id": "46c1ff3e",
   "metadata": {},
   "source": [
    "    duration    0.375466\n",
    "    balance     0.188377\n",
    "    age         0.167738\n",
    "    day         0.146197\n",
    "    salary      0.076843\n",
    "    campaign    0.045378"
   ]
  },
  {
   "cell_type": "markdown",
   "id": "1677fe13",
   "metadata": {},
   "source": [
    "Here also from all the coloumns duraction is the very important column."
   ]
  },
  {
   "cell_type": "markdown",
   "id": "73fa0f2b",
   "metadata": {},
   "source": [
    "Yes, top feature is similar in both the model which is duration."
   ]
  },
  {
   "cell_type": "code",
   "execution_count": null,
   "id": "25f282ce",
   "metadata": {},
   "outputs": [],
   "source": []
  },
  {
   "cell_type": "code",
   "execution_count": null,
   "id": "fa7c21ed",
   "metadata": {},
   "outputs": [],
   "source": []
  },
  {
   "cell_type": "code",
   "execution_count": null,
   "id": "974255cb",
   "metadata": {},
   "outputs": [],
   "source": []
  },
  {
   "cell_type": "code",
   "execution_count": null,
   "id": "1c9b6f67",
   "metadata": {},
   "outputs": [],
   "source": []
  }
 ],
 "metadata": {
  "kernelspec": {
   "display_name": "Python 3",
   "language": "python",
   "name": "python3"
  },
  "language_info": {
   "codemirror_mode": {
    "name": "ipython",
    "version": 3
   },
   "file_extension": ".py",
   "mimetype": "text/x-python",
   "name": "python",
   "nbconvert_exporter": "python",
   "pygments_lexer": "ipython3",
   "version": "3.8.8"
  }
 },
 "nbformat": 4,
 "nbformat_minor": 5
}
